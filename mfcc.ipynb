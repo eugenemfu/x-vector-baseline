{
 "cells": [
  {
   "cell_type": "code",
   "execution_count": 38,
   "metadata": {},
   "outputs": [],
   "source": [
    "import os\n",
    "import torch\n",
    "import torchaudio\n",
    "import speechbrain\n",
    "from speechbrain.lobes import features"
   ]
  },
  {
   "cell_type": "code",
   "execution_count": 35,
   "metadata": {},
   "outputs": [
    {
     "data": {
      "text/plain": [
       "torch.Size([1, 564, 30])"
      ]
     },
     "execution_count": 35,
     "metadata": {},
     "output_type": "execute_result"
    }
   ],
   "source": [
    "fmaker = features.MFCC(deltas=False, context=False, n_mels=30, n_mfcc=30, n_fft=512)"
   ]
  },
  {
   "cell_type": "code",
   "execution_count": 42,
   "metadata": {},
   "outputs": [],
   "source": [
    "def make_mfcc(wav_path='audio', out_path='mfcc'):\n",
    "    fmaker = features.MFCC(deltas=False, context=False, n_mels=35, n_mfcc=30, n_fft=512)\n",
    "    i = 0\n",
    "    for filename in os.listdir(wav_path):\n",
    "        if filename.endswith('.wav'):\n",
    "            print(i, end='\\r')\n",
    "            sig, rate = torchaudio.load(os.path.join(wav_path, filename))\n",
    "            mfccname = 'mfcc' + filename[5:-4]\n",
    "            torch.save(fmaker(sig), os.path.join(out_path, mfccname))\n",
    "            i += 1"
   ]
  },
  {
   "cell_type": "code",
   "execution_count": 43,
   "metadata": {},
   "outputs": [
    {
     "name": "stdout",
     "output_type": "stream",
     "text": [
      "1092007\r"
     ]
    }
   ],
   "source": [
    "make_mfcc('audio', 'mfcc')"
   ]
  },
  {
   "cell_type": "code",
   "execution_count": 45,
   "metadata": {},
   "outputs": [
    {
     "name": "stdout",
     "output_type": "stream",
     "text": [
      "36236\r"
     ]
    }
   ],
   "source": [
    "make_mfcc('audio_test', 'mfcc_test')"
   ]
  }
 ],
 "metadata": {
  "kernelspec": {
   "display_name": "Python 3",
   "language": "python",
   "name": "python3"
  },
  "language_info": {
   "codemirror_mode": {
    "name": "ipython",
    "version": 3
   },
   "file_extension": ".py",
   "mimetype": "text/x-python",
   "name": "python",
   "nbconvert_exporter": "python",
   "pygments_lexer": "ipython3",
   "version": "3.8.5"
  }
 },
 "nbformat": 4,
 "nbformat_minor": 4
}
