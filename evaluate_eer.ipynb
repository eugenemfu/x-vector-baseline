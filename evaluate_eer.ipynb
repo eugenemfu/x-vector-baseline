{
 "cells": [
  {
   "cell_type": "code",
   "execution_count": 1,
   "id": "4f21c2c2-611c-4d3e-82c3-302b3a97990b",
   "metadata": {
    "id": "anonymous-screening"
   },
   "outputs": [],
   "source": [
    "import os\n",
    "import numpy as np\n",
    "import numpy.linalg as la\n",
    "import torch\n",
    "from torch import nn\n",
    "from torch.nn import functional as F\n",
    "from torch.optim import Adam, SGD\n",
    "import matplotlib.pyplot as plt"
   ]
  },
  {
   "cell_type": "code",
   "execution_count": 8,
   "id": "d6c7962e-3a2a-4255-a809-5a8f18a49efd",
   "metadata": {},
   "outputs": [],
   "source": [
    "from model import Net\n",
    "from tdnn import TDNN\n",
    "from dataloader import DataLoader"
   ]
  },
  {
   "cell_type": "code",
   "execution_count": 9,
   "id": "8288976c-6487-4dae-956f-a5cb3ac8610e",
   "metadata": {
    "id": "4IgrrpTLZ1B6"
   },
   "outputs": [
    {
     "data": {
      "text/plain": [
       "True"
      ]
     },
     "execution_count": 9,
     "metadata": {},
     "output_type": "execute_result"
    }
   ],
   "source": [
    "device = torch.device(\"cuda:0\")\n",
    "torch.cuda.is_available()"
   ]
  },
  {
   "cell_type": "code",
   "execution_count": 10,
   "id": "265622d6-fed6-4174-bdc5-71771f83fffb",
   "metadata": {
    "id": "involved-freedom",
    "tags": []
   },
   "outputs": [
    {
     "name": "stdout",
     "output_type": "stream",
     "text": [
      "1092008\n",
      "36237\n"
     ]
    }
   ],
   "source": [
    "file_name = 'mfcc'\n",
    "\n",
    "train_path = 'mfcc'\n",
    "y_train = np.load(train_path + '/speakers.npy')\n",
    "train_size = y_train.shape[0]\n",
    "print(train_size)\n",
    "\n",
    "test_path = 'mfcc_test'\n",
    "y_test = np.load(test_path + '/speakers.npy')\n",
    "test_size = y_test.shape[0]\n",
    "print(test_size)\n",
    "\n",
    "model = torch.load('models/model_acc90.pkl').to(device)"
   ]
  },
  {
   "cell_type": "code",
   "execution_count": null,
   "id": "625597c4-b6fc-4708-b9d2-930fffd3f581",
   "metadata": {},
   "outputs": [
    {
     "name": "stdout",
     "output_type": "stream",
     "text": [
      "842037/1092008"
     ]
    }
   ],
   "source": [
    "embeddings_train = np.zeros((train_size, 512))\n",
    "for i in range(train_size):\n",
    "    print(f'\\r{i}/{train_size}', end='')\n",
    "    mfcc = torch.load(train_path + '/' + file_name + str(i)).to(device)\n",
    "    emb = model.embedding(mfcc).cpu().detach().numpy().squeeze(0)\n",
    "    embeddings_train[i] = emb\n",
    "np.save('embeddings_train.npy', embeddings_train)"
   ]
  },
  {
   "cell_type": "code",
   "execution_count": null,
   "id": "9ea237bf-dcfe-4040-b5d3-4a2014c3f300",
   "metadata": {},
   "outputs": [],
   "source": [
    "embeddings_test = np.zeros((test_size, 512))\n",
    "for i in range(test_size):\n",
    "    print(f'\\r{i}/{test_size}', end='')\n",
    "    mfcc = torch.load(test_path + '/' + file_name + str(i)).to(device)\n",
    "    emb = model.embedding(mfcc).cpu().detach().numpy().squeeze(0)\n",
    "    embeddings_test[i] = emb\n",
    "np.save('embeddings_test.npy', embeddings_test)"
   ]
  },
  {
   "cell_type": "code",
   "execution_count": null,
   "id": "5c07fe83-623b-454d-9267-01c0e29f045f",
   "metadata": {},
   "outputs": [],
   "source": [
    "embeddings_train = np.load('embeddings_train.npy')\n",
    "embeddings_test = np.load('embeddings_test.npy')"
   ]
  },
  {
   "cell_type": "markdown",
   "id": "15b07ec8-a207-4043-8194-38115b710b44",
   "metadata": {},
   "source": [
    "### Simple cosine dist"
   ]
  },
  {
   "cell_type": "code",
   "execution_count": null,
   "id": "ce3d9b62-0820-4e30-a158-aa8abc6f2975",
   "metadata": {
    "colab": {
     "base_uri": "https://localhost:8080/"
    },
    "id": "restricted-reynolds",
    "outputId": "8f1989e2-8414-44c5-b9ed-4f42efe3aa90"
   },
   "outputs": [],
   "source": [
    "threshold = 0.75\n",
    "n_same = 0\n",
    "k_same = 0\n",
    "n_diff = 0\n",
    "k_diff = 0\n",
    "ITERATIONS = 100000\n",
    "for i in range(ITERATIONS):\n",
    "    print(f'\\r{i}/{ITERATIONS}', end='')\n",
    "    rand_idx = np.random.choice(test_size, size=2, replace=True)\n",
    "    same = (y_test[rand_idx[0]] == y_test[rand_idx[1]])\n",
    "    pair = embeddings_test[[rand_idx[0], rand_idx[1]]]\n",
    "    cos_dist = pair[0] @ pair[1] / (la.norm(pair[0]) * la.norm(pair[1]))\n",
    "    if cos_dist > threshold:\n",
    "        if same:\n",
    "            n_same += 1\n",
    "        else:\n",
    "            k_diff += 1\n",
    "            n_diff += 1\n",
    "    else:\n",
    "        if same:\n",
    "            k_same += 1\n",
    "            n_same += 1\n",
    "        else:\n",
    "            n_diff += 1\n",
    "\n",
    "print(f'Total same pairs: {n_same}\\t err rate: {k_same/n_same}')\n",
    "print(f'Total diff pairs: {n_diff}\\t err rate: {k_diff/n_diff}')"
   ]
  },
  {
   "cell_type": "markdown",
   "id": "bd769031-b247-4ff6-9d5c-5ebd85c0dce9",
   "metadata": {},
   "source": [
    "### PLDA"
   ]
  },
  {
   "cell_type": "code",
   "execution_count": null,
   "id": "cdd47721-4e03-42d1-9db0-080587275489",
   "metadata": {},
   "outputs": [],
   "source": [
    "from plda.model import Model\n",
    "plda = Model(embeddings_train, y_train, n_principal_components=200)\n",
    "transformed_test = plda.transform(embeddings_test, from_space='D', to_space='U_model')"
   ]
  },
  {
   "cell_type": "code",
   "execution_count": null,
   "id": "ae108dc6-6210-4a63-9923-8de6029c6936",
   "metadata": {},
   "outputs": [],
   "source": [
    "threshold = 0\n",
    "n_same = 0\n",
    "k_same = 0\n",
    "n_diff = 0\n",
    "k_diff = 0\n",
    "ITERATIONS = 10000\n",
    "for i in range(ITERATIONS):\n",
    "    print(f'\\r{i}/{ITERATIONS}', end='')\n",
    "    rand_idx = np.random.choice(test_size, size=2, replace=True)\n",
    "    same = (y_test[rand_idx[0]] == y_test[rand_idx[1]])\n",
    "    pair = transformed_test[[rand_idx[0], rand_idx[1]]]\n",
    "    plda_score = plda.calc_same_diff_log_likelihood_ratio(pair[0], pair[1])\n",
    "    if plda_score > threshold:\n",
    "        if same:\n",
    "            n_same += 1\n",
    "        else:\n",
    "            k_diff += 1\n",
    "            n_diff += 1\n",
    "    else:\n",
    "        if same:\n",
    "            k_same += 1\n",
    "            n_same += 1\n",
    "        else:\n",
    "            n_diff += 1\n",
    "\n",
    "print(f'Total same pairs: {n_same}\\t err rate: {k_same/n_same}')\n",
    "print(f'Total diff pairs: {n_diff}\\t err rate: {k_diff/n_diff}')"
   ]
  }
 ],
 "metadata": {
  "accelerator": "GPU",
  "colab": {
   "collapsed_sections": [],
   "name": "nist.ipynb",
   "provenance": []
  },
  "kernelspec": {
   "display_name": "Python 3",
   "language": "python",
   "name": "python3"
  },
  "language_info": {
   "codemirror_mode": {
    "name": "ipython",
    "version": 3
   },
   "file_extension": ".py",
   "mimetype": "text/x-python",
   "name": "python",
   "nbconvert_exporter": "python",
   "pygments_lexer": "ipython3",
   "version": "3.8.5"
  }
 },
 "nbformat": 4,
 "nbformat_minor": 5
}
