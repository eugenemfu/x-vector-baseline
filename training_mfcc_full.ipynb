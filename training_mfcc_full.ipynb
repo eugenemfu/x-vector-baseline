{
 "cells": [
  {
   "cell_type": "code",
   "execution_count": null,
   "id": "4f21c2c2-611c-4d3e-82c3-302b3a97990b",
   "metadata": {
    "id": "anonymous-screening"
   },
   "outputs": [],
   "source": [
    "import os\n",
    "import numpy as np\n",
    "import torch\n",
    "from torch import nn\n",
    "from torch.nn import functional as F\n",
    "from torch.optim import Adam, SGD\n",
    "import matplotlib.pyplot as plt"
   ]
  },
  {
   "cell_type": "code",
   "execution_count": null,
   "id": "fb1679a8-d23b-45a4-bee8-5785176f7b09",
   "metadata": {},
   "outputs": [],
   "source": [
    "from model import Net\n",
    "from tdnn import TDNN\n",
    "from dataloader import DataLoader"
   ]
  },
  {
   "cell_type": "code",
   "execution_count": null,
   "id": "8288976c-6487-4dae-956f-a5cb3ac8610e",
   "metadata": {
    "id": "4IgrrpTLZ1B6"
   },
   "outputs": [],
   "source": [
    "device = torch.device(\"cuda:1\")\n",
    "torch.cuda.is_available()"
   ]
  },
  {
   "cell_type": "code",
   "execution_count": null,
   "id": "429344d1-1dcb-42b8-837c-b8f8c43d74f7",
   "metadata": {
    "id": "amateur-preserve"
   },
   "outputs": [],
   "source": [
    "def eval_accuracy(model, data_val, num_batches=None):\n",
    "    model.eval()\n",
    "    criterion = nn.CrossEntropyLoss().to(device)\n",
    "    y_top1 = np.zeros(0)\n",
    "    y_top3 = np.zeros((0, 3))\n",
    "    losses = []\n",
    "    top1_accs = []\n",
    "    top3_accs = []\n",
    "    for inputs, targets, lengths in data_val():\n",
    "        with torch.no_grad():\n",
    "            output = model(inputs, lengths)\n",
    "            loss = criterion(output, targets)\n",
    "            losses.append(loss.item())\n",
    "            y_top1 = np.argmax(output.cpu().detach().numpy(), axis=1)\n",
    "            y_top3 = np.argpartition(output.cpu().detach().numpy(), -3, axis=1)[:, -3:]\n",
    "            top1_accs.append(np.mean(targets.cpu().detach().numpy() == y_top1))\n",
    "        if num_batches:\n",
    "            num_batches -= 1\n",
    "            if num_batches == 0:\n",
    "                break\n",
    "    loss = np.mean(losses)\n",
    "    top1_acc = np.mean(top1_accs)\n",
    "    model.train()\n",
    "    return loss, top1_acc"
   ]
  },
  {
   "cell_type": "code",
   "execution_count": null,
   "id": "0933c837-16cc-4087-bf1e-5f5971ac7612",
   "metadata": {
    "id": "refined-display"
   },
   "outputs": [],
   "source": [
    "dummy = Net(5994)\n",
    "print(\"Number of parameters:\", sum(p.numel() for p in dummy.parameters() if p.requires_grad))"
   ]
  },
  {
   "cell_type": "code",
   "execution_count": null,
   "id": "265622d6-fed6-4174-bdc5-71771f83fffb",
   "metadata": {
    "id": "involved-freedom",
    "tags": []
   },
   "outputs": [],
   "source": [
    "data_path = 'mfcc'\n",
    "file_name = 'mfcc'\n",
    "y = np.load(data_path + '/speakers.npy')"
   ]
  },
  {
   "cell_type": "code",
   "execution_count": null,
   "id": "18e5984a-61c9-4cec-a921-0b765139492a",
   "metadata": {
    "id": "involved-freedom"
   },
   "outputs": [],
   "source": [
    "val_size = 0.1\n",
    "\n",
    "data_size = y.shape[0]\n",
    "rand_idx = np.random.choice(data_size, size=data_size, replace=False)\n",
    "border = int((1-val_size)*data_size)\n",
    "train_idx = rand_idx[:border]\n",
    "val_idx = rand_idx[border:]"
   ]
  },
  {
   "cell_type": "code",
   "execution_count": null,
   "id": "ce3d9b62-0820-4e30-a158-aa8abc6f2975",
   "metadata": {
    "colab": {
     "base_uri": "https://localhost:8080/"
    },
    "id": "restricted-reynolds",
    "outputId": "8f1989e2-8414-44c5-b9ed-4f42efe3aa90"
   },
   "outputs": [],
   "source": [
    "batch_size = 16\n",
    "num_epochs = 100\n",
    "\n",
    "data_train = DataLoader(data_path, file_name, y, train_idx, batch_size, device=device)\n",
    "data_val = DataLoader(data_path, file_name, y, val_idx, batch_size, device=device)\n",
    "\n",
    "n_speakers = len(np.unique(y))\n",
    "model = Net(n_speakers).to(device)\n",
    "optimizer = Adam(model.parameters(), lr=1e-4, weight_decay=1e-6)\n",
    "criterion = nn.CrossEntropyLoss().to(device)\n",
    "\n",
    "print(f'\\repoch: 0/{num_epochs}, evaluating...', end='')\n",
    "train_loss, train_acc = eval_accuracy(model, data_train, num_batches=500)\n",
    "val_loss, val_acc = eval_accuracy(model, data_val, num_batches=500)\n",
    "print(f'\\repoch: 0/{num_epochs}, '\n",
    "      f'train loss: {\"%.5f\"%train_loss}, train acc: {\"%.5f\"%train_acc}',\n",
    "      f'val loss: {\"%.5f\"%val_loss}, val acc: {\"%.5f\"%val_acc}')\n",
    "\n",
    "for epoch in range(num_epochs):\n",
    "    losses = []\n",
    "    i = 0\n",
    "    best_loss = 5\n",
    "    for inputs, targets, lengths in data_train():\n",
    "        i += 1\n",
    "        outputs = model(inputs, lengths)\n",
    "        optimizer.zero_grad()\n",
    "        loss = criterion(outputs, targets)\n",
    "        loss.backward()\n",
    "        optimizer.step()\n",
    "        losses.append(loss.item())\n",
    "        print(f'\\repoch: {epoch+1}/{num_epochs}, batch: {i}/{train_idx.shape[0]//batch_size+1}, size: {inputs.shape[1]}', end='')\n",
    "    if (epoch + 1) % 1 == 0:\n",
    "        print(f'\\repoch: {epoch+1}/{num_epochs}, train loss: {\"%.5f\"%np.mean(losses)}, evaluating...', end='')\n",
    "        train_loss, train_acc = eval_accuracy(model, data_train, num_batches=5000)\n",
    "        val_loss, val_acc = eval_accuracy(model, data_val, num_batches=5000)\n",
    "        if val_loss < best_loss:\n",
    "            best_loss = val_loss\n",
    "            torch.save(model, f'models/full_model{epoch+1}.pkl')\n",
    "        print(f'\\repoch: {epoch+1}/{num_epochs}, '\n",
    "              f'train loss: {\"%.5f\"%train_loss}, train acc: {\"%.5f\"%train_acc}',\n",
    "              f'val loss: {\"%.5f\"%val_loss}, val acc: {\"%.5f\"%val_acc}')"
   ]
  },
  {
   "cell_type": "code",
   "execution_count": null,
   "id": "b947970e-f2a8-4023-8076-07dab4fced0c",
   "metadata": {},
   "outputs": [],
   "source": []
  }
 ],
 "metadata": {
  "accelerator": "GPU",
  "colab": {
   "collapsed_sections": [],
   "name": "nist.ipynb",
   "provenance": []
  },
  "kernelspec": {
   "display_name": "Python 3",
   "language": "python",
   "name": "python3"
  },
  "language_info": {
   "codemirror_mode": {
    "name": "ipython",
    "version": 3
   },
   "file_extension": ".py",
   "mimetype": "text/x-python",
   "name": "python",
   "nbconvert_exporter": "python",
   "pygments_lexer": "ipython3",
   "version": "3.8.5"
  }
 },
 "nbformat": 4,
 "nbformat_minor": 5
}
